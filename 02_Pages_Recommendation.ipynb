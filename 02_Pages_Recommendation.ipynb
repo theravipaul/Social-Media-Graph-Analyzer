{
 "cells": [
  {
   "cell_type": "code",
   "execution_count": 1,
   "id": "b947d0b5-cb52-410d-84cc-f045434f5a8f",
   "metadata": {},
   "outputs": [
    {
     "name": "stdout",
     "output_type": "stream",
     "text": [
      "📌 Pages recommended for User 9 : [101, 102, 103, 107, 110, 105]\n"
     ]
    }
   ],
   "source": [
    "import json\n",
    "\n",
    "def load_data(filename):\n",
    "    with open(filename, \"r\") as f:\n",
    "        return json.load(f)\n",
    "\n",
    "def Pages_you_might_like(user_id, data):\n",
    "    total_pages = {user['id']: set(user['liked_pages']) for user in data['users']}\n",
    "    if user_id not in total_pages:\n",
    "        return []\n",
    "\n",
    "    user_liked_pages = total_pages[user_id]\n",
    "    suggestions = {}\n",
    "\n",
    "    for other_user, pages in total_pages.items():\n",
    "        if user_id != other_user:\n",
    "            shared = user_liked_pages.intersection(pages)\n",
    "            for page in pages - user_liked_pages:\n",
    "                suggestions[page] = suggestions.get(page, 0) + len(shared)\n",
    "\n",
    "    sorted_pages = sorted(suggestions.items(), key=lambda x: x[1], reverse=True)\n",
    "    return [page for page, score in sorted_pages]\n",
    "\n",
    "data = load_data(\"cleaned_social_network.json\")\n",
    "user_id = 9\n",
    "recommended_pages = Pages_you_might_like(user_id, data)\n",
    "print(\"📌 Pages recommended for User\", user_id, \":\", recommended_pages)\n"
   ]
  },
  {
   "cell_type": "code",
   "execution_count": null,
   "id": "3821bdaf-40b7-4952-937d-d0fa389d65d5",
   "metadata": {},
   "outputs": [],
   "source": []
  }
 ],
 "metadata": {
  "kernelspec": {
   "display_name": "Python 3 (ipykernel)",
   "language": "python",
   "name": "python3"
  },
  "language_info": {
   "codemirror_mode": {
    "name": "ipython",
    "version": 3
   },
   "file_extension": ".py",
   "mimetype": "text/x-python",
   "name": "python",
   "nbconvert_exporter": "python",
   "pygments_lexer": "ipython3",
   "version": "3.12.7"
  }
 },
 "nbformat": 4,
 "nbformat_minor": 5
}
