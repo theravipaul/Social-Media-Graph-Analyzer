{
 "cells": [
  {
   "cell_type": "code",
   "execution_count": 1,
   "id": "9c254886-4a63-4cb2-bd6c-e7dbca043ce5",
   "metadata": {},
   "outputs": [],
   "source": [
    "import json"
   ]
  },
  {
   "cell_type": "code",
   "execution_count": 12,
   "id": "0534cec9-da43-46b2-b8f7-e1cc58321704",
   "metadata": {},
   "outputs": [
    {
     "name": "stdout",
     "output_type": "stream",
     "text": [
      "👤 User Summary\n",
      "🔹 Name            : Ravi\n",
      "🔹 Total Friends   : 2\n",
      "🔹 Liked Pages     : 0\n"
     ]
    }
   ],
   "source": [
    "import json\n",
    "\n",
    "def load_data(filename):\n",
    "    with open(filename, \"r\") as f:\n",
    "        return json.load(f)\n",
    "\n",
    "def user_summary(user_id, data):\n",
    "    for user in data['users']:\n",
    "        if user['id'] == user_id:\n",
    "            return {\n",
    "                \"Name\": user['name'],\n",
    "                \"Total Friends\": len(user['friends']),\n",
    "                \"Total Liked Pages\": len(user['liked_pages'])\n",
    "            }\n",
    "    return {}\n",
    "\n",
    "data = load_data(\"cleaned_social_network.json\")\n",
    "user_id = 9\n",
    "\n",
    "user_details = user_summary(user_id, data)\n",
    "\n",
    "if user_details:\n",
    "    print(\"👤 User Summary\")\n",
    "    print(f\"🔹 Name            : {user_details['Name']}\")\n",
    "    print(f\"🔹 Total Friends   : {user_details['Total Friends']}\")\n",
    "    print(f\"🔹 Liked Pages     : {user_details['Total Liked Pages']}\")\n",
    "else:\n",
    "    print(f\"No user found with ID {user_id}\")\n"
   ]
  },
  {
   "cell_type": "code",
   "execution_count": null,
   "id": "86da27e5-a450-4406-82b0-de1716bc0ba8",
   "metadata": {},
   "outputs": [],
   "source": []
  }
 ],
 "metadata": {
  "kernelspec": {
   "display_name": "Python 3 (ipykernel)",
   "language": "python",
   "name": "python3"
  },
  "language_info": {
   "codemirror_mode": {
    "name": "ipython",
    "version": 3
   },
   "file_extension": ".py",
   "mimetype": "text/x-python",
   "name": "python",
   "nbconvert_exporter": "python",
   "pygments_lexer": "ipython3",
   "version": "3.12.7"
  }
 },
 "nbformat": 4,
 "nbformat_minor": 5
}
