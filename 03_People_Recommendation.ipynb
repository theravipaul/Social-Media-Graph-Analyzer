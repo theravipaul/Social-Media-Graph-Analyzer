{
 "cells": [
  {
   "cell_type": "code",
   "execution_count": 1,
   "id": "74076332-f681-4d83-bdfc-a3e08e8d3c36",
   "metadata": {},
   "outputs": [
    {
     "name": "stdout",
     "output_type": "stream",
     "text": [
      "🧑‍🤝‍🧑 People you may know for User 10 : [3, 7, 11]\n"
     ]
    }
   ],
   "source": [
    "import json\n",
    "\n",
    "def load_data(filename):\n",
    "    with open(filename, \"r\") as f:\n",
    "        return json.load(f)\n",
    "\n",
    "def Find_people_you_may_know(user_id, data):\n",
    "    user_friends = {user['id']: set(user['friends']) for user in data['users']}\n",
    "    if user_id not in user_friends:\n",
    "        return []\n",
    "\n",
    "    direct = user_friends[user_id]\n",
    "    suggestions = {}\n",
    "\n",
    "    for friend in direct:\n",
    "        for mutual in user_friends.get(friend, []):\n",
    "            if mutual != user_id and mutual not in direct:\n",
    "                suggestions[mutual] = suggestions.get(mutual, 0) + 1\n",
    "\n",
    "    sorted_suggestions = sorted(suggestions.items(), key=lambda x: x[1], reverse=True)\n",
    "    return [uid for uid, _ in sorted_suggestions]\n",
    "\n",
    "data = load_data(\"cleaned_social_network.json\")\n",
    "user_id = 10\n",
    "people_recommended = Find_people_you_may_know(user_id, data)\n",
    "print(\"🧑‍🤝‍🧑 People you may know for User\", user_id, \":\", people_recommended)\n"
   ]
  },
  {
   "cell_type": "code",
   "execution_count": null,
   "id": "1bb2f5d0-b3c3-487f-a8e8-d4a500f78687",
   "metadata": {},
   "outputs": [],
   "source": []
  }
 ],
 "metadata": {
  "kernelspec": {
   "display_name": "Python 3 (ipykernel)",
   "language": "python",
   "name": "python3"
  },
  "language_info": {
   "codemirror_mode": {
    "name": "ipython",
    "version": 3
   },
   "file_extension": ".py",
   "mimetype": "text/x-python",
   "name": "python",
   "nbconvert_exporter": "python",
   "pygments_lexer": "ipython3",
   "version": "3.12.7"
  }
 },
 "nbformat": 4,
 "nbformat_minor": 5
}
